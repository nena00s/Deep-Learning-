{
  "metadata": {
    "kernelspec": {
      "language": "python",
      "display_name": "Python 3",
      "name": "python3"
    },
    "language_info": {
      "pygments_lexer": "ipython3",
      "nbconvert_exporter": "python",
      "version": "3.6.4",
      "file_extension": ".py",
      "codemirror_mode": {
        "name": "ipython",
        "version": 3
      },
      "name": "python",
      "mimetype": "text/x-python"
    },
    "colab": {
      "provenance": [],
      "include_colab_link": true
    }
  },
  "nbformat_minor": 0,
  "nbformat": 4,
  "cells": [
    {
      "cell_type": "markdown",
      "metadata": {
        "id": "view-in-github",
        "colab_type": "text"
      },
      "source": [
        "<a href=\"https://colab.research.google.com/github/nena00s/Deep-Learning-/blob/main/Sentiment_Analysis.ipynb\" target=\"_parent\"><img src=\"https://colab.research.google.com/assets/colab-badge.svg\" alt=\"Open In Colab\"/></a>"
      ]
    },
    {
      "source": [
        "\n",
        "# IMPORTANT: RUN THIS CELL IN ORDER TO IMPORT YOUR KAGGLE DATA SOURCES\n",
        "# TO THE CORRECT LOCATION (/kaggle/input) IN YOUR NOTEBOOK,\n",
        "# THEN FEEL FREE TO DELETE THIS CELL.\n",
        "# NOTE: THIS NOTEBOOK ENVIRONMENT DIFFERS FROM KAGGLE'S PYTHON\n",
        "# ENVIRONMENT SO THERE MAY BE MISSING LIBRARIES USED BY YOUR\n",
        "# NOTEBOOK.\n",
        "\n",
        "import os\n",
        "import sys\n",
        "from tempfile import NamedTemporaryFile\n",
        "from urllib.request import urlopen\n",
        "from urllib.parse import unquote, urlparse\n",
        "from urllib.error import HTTPError\n",
        "from zipfile import ZipFile\n",
        "import tarfile\n",
        "import shutil\n",
        "\n",
        "CHUNK_SIZE = 40960\n",
        "DATA_SOURCE_MAPPING = 'amazonreviews:https%3A%2F%2Fstorage.googleapis.com%2Fkaggle-data-sets%2F1305%2F800230%2Fbundle%2Farchive.zip%3FX-Goog-Algorithm%3DGOOG4-RSA-SHA256%26X-Goog-Credential%3Dgcp-kaggle-com%2540kaggle-161607.iam.gserviceaccount.com%252F20240425%252Fauto%252Fstorage%252Fgoog4_request%26X-Goog-Date%3D20240425T031134Z%26X-Goog-Expires%3D259200%26X-Goog-SignedHeaders%3Dhost%26X-Goog-Signature%3D2506282666153bee88846062e6c228badb6a0930e3659047e2ce22d9d255a0126ed791798c578be34a3c9baef84880fa2e3d67bd324c67df007fd53f694716e28fc3eb1e521153590c0f7065f7c6c953f378f2eeb48c18309d12b8c3cba4934774cbeddc6d57c27a394c6b23fbdc3fa91b88cabad533799887f55fe0d63aaf69a35a7c22237239a9a90710776ca815ee7456dda18d86550056fc20405f6e9f70f1574f104386eb99f96b61d8dd90c9446045c1f16c66f058cea4ba65be1a0fc844d30a87537acdbf9045beb9fc8cb017c6a35af074afb2710d7db9970fe6ce4170f0c74e081d91d0874ff00366d0021b9f8f23c217511a3cd10d18419e524b67'\n",
        "\n",
        "KAGGLE_INPUT_PATH='/kaggle/input'\n",
        "KAGGLE_WORKING_PATH='/kaggle/working'\n",
        "KAGGLE_SYMLINK='kaggle'\n",
        "\n",
        "!umount /kaggle/input/ 2> /dev/null\n",
        "shutil.rmtree('/kaggle/input', ignore_errors=True)\n",
        "os.makedirs(KAGGLE_INPUT_PATH, 0o777, exist_ok=True)\n",
        "os.makedirs(KAGGLE_WORKING_PATH, 0o777, exist_ok=True)\n",
        "\n",
        "try:\n",
        "  os.symlink(KAGGLE_INPUT_PATH, os.path.join(\"..\", 'input'), target_is_directory=True)\n",
        "except FileExistsError:\n",
        "  pass\n",
        "try:\n",
        "  os.symlink(KAGGLE_WORKING_PATH, os.path.join(\"..\", 'working'), target_is_directory=True)\n",
        "except FileExistsError:\n",
        "  pass\n",
        "\n",
        "for data_source_mapping in DATA_SOURCE_MAPPING.split(','):\n",
        "    directory, download_url_encoded = data_source_mapping.split(':')\n",
        "    download_url = unquote(download_url_encoded)\n",
        "    filename = urlparse(download_url).path\n",
        "    destination_path = os.path.join(KAGGLE_INPUT_PATH, directory)\n",
        "    try:\n",
        "        with urlopen(download_url) as fileres, NamedTemporaryFile() as tfile:\n",
        "            total_length = fileres.headers['content-length']\n",
        "            print(f'Downloading {directory}, {total_length} bytes compressed')\n",
        "            dl = 0\n",
        "            data = fileres.read(CHUNK_SIZE)\n",
        "            while len(data) > 0:\n",
        "                dl += len(data)\n",
        "                tfile.write(data)\n",
        "                done = int(50 * dl / int(total_length))\n",
        "                sys.stdout.write(f\"\\r[{'=' * done}{' ' * (50-done)}] {dl} bytes downloaded\")\n",
        "                sys.stdout.flush()\n",
        "                data = fileres.read(CHUNK_SIZE)\n",
        "            if filename.endswith('.zip'):\n",
        "              with ZipFile(tfile) as zfile:\n",
        "                zfile.extractall(destination_path)\n",
        "            else:\n",
        "              with tarfile.open(tfile.name) as tarfile:\n",
        "                tarfile.extractall(destination_path)\n",
        "            print(f'\\nDownloaded and uncompressed: {directory}')\n",
        "    except HTTPError as e:\n",
        "        print(f'Failed to load (likely expired) {download_url} to path {destination_path}')\n",
        "        continue\n",
        "    except OSError as e:\n",
        "        print(f'Failed to load {download_url} to path {destination_path}')\n",
        "        continue\n",
        "\n",
        "print('Data source import complete.')\n"
      ],
      "metadata": {
        "id": "lRszoBP5PLJz"
      },
      "cell_type": "code",
      "outputs": [],
      "execution_count": null
    },
    {
      "cell_type": "markdown",
      "source": [
        "<center>\n",
        "  <h1 style=\"background-color:red; color:white; font-size:40px; font-weight:bold; font-family:Times New Roman; border:3px solid black;\">Amazon Reviews For Sentiment Analysis</h1>\n",
        "</center>"
      ],
      "metadata": {
        "id": "ZxAsRmc8PLJ3"
      }
    },
    {
      "cell_type": "markdown",
      "source": [
        "# <div style= \"font-family: Cambria; font-weight:bold; letter-spacing: 0px; color:#ffffff; font-size:120%; text-align:left;padding:3.0px; background: #003380; border: 10px solid #80ffff\"> TABLE OF CONTENTS<br><div>  \n",
        "\n",
        "* [Import Libraries](#0)\n",
        "* [Read Data](#1)\n",
        "* [Text Cleaning](#2)\n",
        "* [Word Cloud](#3)\n",
        "* [Tokeniztion & pad_sequences](#4)\n",
        "* [Model](#5)\n",
        "* [Model Check](#6)"
      ],
      "metadata": {
        "id": "4mQAILiGPLJ6"
      }
    },
    {
      "cell_type": "markdown",
      "source": [
        "<a id=\"0.1\"></a>\n",
        "## <div style= \"font-family: Cambria; font-weight:bold; letter-spacing: 0px; color:#ffffff; font-size:120%; text-align:left;padding:3.0px; background: #0059b3; border-bottom: 8px solid #e6e6e6\" >Import Libraries<br><div>\n"
      ],
      "metadata": {
        "id": "zywBVkQtPLJ6"
      }
    },
    {
      "cell_type": "code",
      "source": [
        "import bz2\n",
        "from tqdm import tqdm\n",
        "import re\n",
        "import pandas as pd\n",
        "import numpy as np\n",
        "import matplotlib.pyplot as plt\n",
        "import seaborn as sns\n",
        "from sklearn.metrics import confusion_matrix\n",
        "from sklearn.metrics import classification_report\n",
        "from wordcloud import WordCloud\n",
        "from sklearn.metrics import confusion_matrix,classification_report\n",
        "from nltk.sentiment.vader import SentimentIntensityAnalyzer\n",
        "from tensorflow.keras.preprocessing.text import Tokenizer\n",
        "from tensorflow.keras.preprocessing.sequence import pad_sequences\n",
        "from tensorflow.keras.models import Sequential\n",
        "from tensorflow.keras.layers import Dense,LSTM,SpatialDropout1D,Embedding\n",
        "from keras.callbacks import ModelCheckpoint\n",
        "import pickle"
      ],
      "metadata": {
        "execution": {
          "iopub.status.busy": "2023-10-17T16:44:40.076596Z",
          "iopub.execute_input": "2023-10-17T16:44:40.076922Z",
          "iopub.status.idle": "2023-10-17T16:44:50.626008Z",
          "shell.execute_reply.started": "2023-10-17T16:44:40.076895Z",
          "shell.execute_reply": "2023-10-17T16:44:50.625125Z"
        },
        "trusted": true,
        "id": "8Hm6-v3JPLJ7"
      },
      "execution_count": null,
      "outputs": []
    },
    {
      "cell_type": "markdown",
      "source": [
        "<a id=\"0.1\"></a>\n",
        "## <div style= \"font-family: Cambria; font-weight:bold; letter-spacing: 0px; color:#ffffff; font-size:120%; text-align:left;padding:3.0px; background: #0059b3; border-bottom: 8px solid #e6e6e6\" > Read Data<br><div>\n"
      ],
      "metadata": {
        "id": "g-pUvbtWPLJ7"
      }
    },
    {
      "cell_type": "code",
      "source": [
        "output_path='/kaggle/working/train.ft.txt'\n",
        "with bz2.open('/kaggle/input/amazonreviews/train.ft.txt.bz2', 'rt', encoding='utf-8') as compressed_file, open(output_path, 'w', encoding='utf-8') as output_file:\n",
        "    for line in compressed_file:\n",
        "        output_file.write(line)\n",
        "    print('Train Successful ❤')\n",
        "output_path='/kaggle/working/test.ft.txt'\n",
        "with bz2.open('/kaggle/input/amazonreviews/test.ft.txt.bz2', 'rt', encoding='utf-8') as compressed_file, open(output_path, 'w', encoding='utf-8') as output_file:\n",
        "    for line in compressed_file:\n",
        "        output_file.write(line)\n",
        "    print('Test Successful ❤')"
      ],
      "metadata": {
        "id": "uLiJP653eRgt",
        "execution": {
          "iopub.status.busy": "2023-10-17T16:44:50.627936Z",
          "iopub.execute_input": "2023-10-17T16:44:50.628662Z",
          "iopub.status.idle": "2023-10-17T16:46:36.273691Z",
          "shell.execute_reply.started": "2023-10-17T16:44:50.628627Z",
          "shell.execute_reply": "2023-10-17T16:46:36.272674Z"
        },
        "trusted": true
      },
      "execution_count": null,
      "outputs": []
    },
    {
      "cell_type": "code",
      "source": [
        "train,test,train_label,test_label=[],[],[],[]\n",
        "with open('train.ft.txt', 'r', encoding='utf-8') as file:\n",
        "    lines = file.readlines()\n",
        "for line in tqdm(lines):\n",
        "    train.append(line.split('__label__')[1][1:])\n",
        "    train_label.append(line.split('__label__')[1][0])\n",
        "with open('test.ft.txt', 'r', encoding='utf-8') as file:\n",
        "    lines = file.readlines()\n",
        "for line in tqdm(lines):\n",
        "    test.append(line.split('__label__')[1][1:])\n",
        "    test_label.append(line.split('__label__')[1][0])"
      ],
      "metadata": {
        "id": "-mhn5n-Zd193",
        "execution": {
          "iopub.status.busy": "2023-10-17T16:46:36.274962Z",
          "iopub.execute_input": "2023-10-17T16:46:36.275819Z",
          "iopub.status.idle": "2023-10-17T16:46:46.689203Z",
          "shell.execute_reply.started": "2023-10-17T16:46:36.275785Z",
          "shell.execute_reply": "2023-10-17T16:46:46.688307Z"
        },
        "trusted": true
      },
      "execution_count": null,
      "outputs": []
    },
    {
      "cell_type": "markdown",
      "source": [
        "<a id=\"0.1\"></a>\n",
        "## <div style= \"font-family: Cambria; font-weight:bold; letter-spacing: 0px; color:#ffffff; font-size:120%; text-align:left;padding:3.0px; background: #0059b3; border-bottom: 8px solid #e6e6e6\" >Text Cleaning<br><div>\n"
      ],
      "metadata": {
        "id": "ujDVZhy3PLJ9"
      }
    },
    {
      "cell_type": "code",
      "source": [
        "def clean_text(text):\n",
        "    # Remove non-alphanumeric characters and extra whitespace\n",
        "    text = re.sub(r'[^a-zA-Z\\s]', '', text)\n",
        "    # Convert multiple whitespace characters to a single space\n",
        "    text = re.sub(r'\\s+', ' ', text)\n",
        "    # Convert the text to lowercase\n",
        "    text = text.lower()\n",
        "    return text"
      ],
      "metadata": {
        "id": "ypT8KGM6d9F-",
        "execution": {
          "iopub.status.busy": "2023-10-17T16:46:46.691484Z",
          "iopub.execute_input": "2023-10-17T16:46:46.692353Z",
          "iopub.status.idle": "2023-10-17T16:46:46.697408Z",
          "shell.execute_reply.started": "2023-10-17T16:46:46.692321Z",
          "shell.execute_reply": "2023-10-17T16:46:46.696461Z"
        },
        "trusted": true
      },
      "execution_count": null,
      "outputs": []
    },
    {
      "cell_type": "code",
      "source": [
        "print('Train Length',len(train))\n",
        "print('Train Label Length',len(train_label))\n",
        "print('Test Length',len(test))\n",
        "print('Test Label Length',len(test_label))"
      ],
      "metadata": {
        "id": "bmiPRioKeAdt",
        "execution": {
          "iopub.status.busy": "2023-10-17T16:46:46.698817Z",
          "iopub.execute_input": "2023-10-17T16:46:46.699141Z",
          "iopub.status.idle": "2023-10-17T16:46:46.710388Z",
          "shell.execute_reply.started": "2023-10-17T16:46:46.699108Z",
          "shell.execute_reply": "2023-10-17T16:46:46.709384Z"
        },
        "trusted": true
      },
      "execution_count": null,
      "outputs": []
    },
    {
      "cell_type": "code",
      "source": [
        "train_label[0],train[0]"
      ],
      "metadata": {
        "id": "txEqacW4eFKe",
        "execution": {
          "iopub.status.busy": "2023-10-17T16:46:46.711718Z",
          "iopub.execute_input": "2023-10-17T16:46:46.712045Z",
          "iopub.status.idle": "2023-10-17T16:46:46.722633Z",
          "shell.execute_reply.started": "2023-10-17T16:46:46.712013Z",
          "shell.execute_reply": "2023-10-17T16:46:46.72174Z"
        },
        "trusted": true
      },
      "execution_count": null,
      "outputs": []
    },
    {
      "cell_type": "code",
      "source": [
        "train_label[0],clean_text(train[0])"
      ],
      "metadata": {
        "id": "8YJznZpueIS1",
        "execution": {
          "iopub.status.busy": "2023-10-17T16:46:46.7241Z",
          "iopub.execute_input": "2023-10-17T16:46:46.724601Z",
          "iopub.status.idle": "2023-10-17T16:46:46.733527Z",
          "shell.execute_reply.started": "2023-10-17T16:46:46.724571Z",
          "shell.execute_reply": "2023-10-17T16:46:46.732512Z"
        },
        "trusted": true
      },
      "execution_count": null,
      "outputs": []
    },
    {
      "cell_type": "code",
      "source": [
        "test_label[0],test[0]"
      ],
      "metadata": {
        "id": "qOubq54ReIKF",
        "execution": {
          "iopub.status.busy": "2023-10-17T16:46:46.7347Z",
          "iopub.execute_input": "2023-10-17T16:46:46.735531Z",
          "iopub.status.idle": "2023-10-17T16:46:46.744682Z",
          "shell.execute_reply.started": "2023-10-17T16:46:46.735501Z",
          "shell.execute_reply": "2023-10-17T16:46:46.743663Z"
        },
        "trusted": true
      },
      "execution_count": null,
      "outputs": []
    },
    {
      "cell_type": "code",
      "source": [
        "test_label[0],clean_text(test[0])"
      ],
      "metadata": {
        "id": "wvo02EKZeZMV",
        "execution": {
          "iopub.status.busy": "2023-10-17T16:46:46.745962Z",
          "iopub.execute_input": "2023-10-17T16:46:46.746577Z",
          "iopub.status.idle": "2023-10-17T16:46:46.756314Z",
          "shell.execute_reply.started": "2023-10-17T16:46:46.746548Z",
          "shell.execute_reply": "2023-10-17T16:46:46.755361Z"
        },
        "trusted": true
      },
      "execution_count": null,
      "outputs": []
    },
    {
      "cell_type": "code",
      "source": [
        "#train label\n",
        "pd.DataFrame(train_label).value_counts()"
      ],
      "metadata": {
        "id": "JaX_xZ-1eh9-",
        "execution": {
          "iopub.status.busy": "2023-10-17T16:46:46.760699Z",
          "iopub.execute_input": "2023-10-17T16:46:46.761574Z",
          "iopub.status.idle": "2023-10-17T16:46:47.039812Z",
          "shell.execute_reply.started": "2023-10-17T16:46:46.761517Z",
          "shell.execute_reply": "2023-10-17T16:46:47.038866Z"
        },
        "trusted": true
      },
      "execution_count": null,
      "outputs": []
    },
    {
      "cell_type": "code",
      "source": [
        "sns.countplot(x=pd.DataFrame(train_label)[0],palette='Blues')\n",
        "plt.title('Distribution Of Target',fontsize=20)\n",
        "plt.xlabel('Target',fontsize=20)\n",
        "plt.ylabel('Count',fontsize=20)\n",
        "plt.grid(True)\n",
        "plt.xticks(rotation=45)\n",
        "plt.yticks(rotation=45)\n",
        "plt.show()"
      ],
      "metadata": {
        "id": "d8FfQP11elJN",
        "execution": {
          "iopub.status.busy": "2023-10-17T16:46:47.041177Z",
          "iopub.execute_input": "2023-10-17T16:46:47.041726Z",
          "iopub.status.idle": "2023-10-17T16:46:49.243347Z",
          "shell.execute_reply.started": "2023-10-17T16:46:47.041694Z",
          "shell.execute_reply": "2023-10-17T16:46:49.242433Z"
        },
        "trusted": true
      },
      "execution_count": null,
      "outputs": []
    },
    {
      "cell_type": "code",
      "source": [
        "#test label\n",
        "pd.DataFrame(test_label).value_counts()"
      ],
      "metadata": {
        "id": "r-vT-Cm2elEl",
        "execution": {
          "iopub.status.busy": "2023-10-17T16:46:49.244547Z",
          "iopub.execute_input": "2023-10-17T16:46:49.245429Z",
          "iopub.status.idle": "2023-10-17T16:46:49.282455Z",
          "shell.execute_reply.started": "2023-10-17T16:46:49.245382Z",
          "shell.execute_reply": "2023-10-17T16:46:49.281495Z"
        },
        "trusted": true
      },
      "execution_count": null,
      "outputs": []
    },
    {
      "cell_type": "code",
      "source": [
        "sns.countplot(x=pd.DataFrame(test_label)[0],palette='Blues')\n",
        "plt.title('Distribution Of Target',fontsize=20)\n",
        "plt.xlabel('Target',fontsize=20)\n",
        "plt.ylabel('Count',fontsize=20)\n",
        "plt.grid(True)\n",
        "plt.xticks(rotation=45)\n",
        "plt.yticks(rotation=45)\n",
        "plt.show()"
      ],
      "metadata": {
        "id": "5Y27XzEgerRv",
        "execution": {
          "iopub.status.busy": "2023-10-17T16:46:49.283838Z",
          "iopub.execute_input": "2023-10-17T16:46:49.284512Z",
          "iopub.status.idle": "2023-10-17T16:46:49.706456Z",
          "shell.execute_reply.started": "2023-10-17T16:46:49.284477Z",
          "shell.execute_reply": "2023-10-17T16:46:49.705601Z"
        },
        "trusted": true
      },
      "execution_count": null,
      "outputs": []
    },
    {
      "cell_type": "code",
      "source": [
        "train=pd.DataFrame(train)[0].apply(clean_text)\n",
        "test=pd.DataFrame(test)[0].apply(clean_text)\n",
        "train.head()"
      ],
      "metadata": {
        "id": "2pXfPwqHerNc",
        "execution": {
          "iopub.status.busy": "2023-10-17T16:46:49.707771Z",
          "iopub.execute_input": "2023-10-17T16:46:49.708323Z",
          "iopub.status.idle": "2023-10-17T16:49:16.11854Z",
          "shell.execute_reply.started": "2023-10-17T16:46:49.708291Z",
          "shell.execute_reply": "2023-10-17T16:49:16.117496Z"
        },
        "trusted": true
      },
      "execution_count": null,
      "outputs": []
    },
    {
      "cell_type": "code",
      "source": [
        "test.head()"
      ],
      "metadata": {
        "id": "GeAa--tkewn-",
        "execution": {
          "iopub.status.busy": "2023-10-17T16:49:16.120143Z",
          "iopub.execute_input": "2023-10-17T16:49:16.120818Z",
          "iopub.status.idle": "2023-10-17T16:49:16.127904Z",
          "shell.execute_reply.started": "2023-10-17T16:49:16.120782Z",
          "shell.execute_reply": "2023-10-17T16:49:16.126866Z"
        },
        "trusted": true
      },
      "execution_count": null,
      "outputs": []
    },
    {
      "cell_type": "markdown",
      "source": [
        "<a id=\"0.1\"></a>\n",
        "## <div style= \"font-family: Cambria; font-weight:bold; letter-spacing: 0px; color:#ffffff; font-size:120%; text-align:left;padding:3.0px; background: #0059b3; border-bottom: 8px solid #e6e6e6\" >Word Cloud<br><div>\n"
      ],
      "metadata": {
        "id": "hehJ15B6PLKD"
      }
    },
    {
      "cell_type": "code",
      "source": [
        "plt.figure(figsize=(30,20))\n",
        "plt.imshow(WordCloud().generate(\" \".join(train.iloc[:20000])))\n",
        "plt.axis(\"off\")\n",
        "plt.title(\"WordCloud For Text\",fontsize=20)\n",
        "plt.show()"
      ],
      "metadata": {
        "id": "mhEvt3--ewkN",
        "execution": {
          "iopub.status.busy": "2023-10-17T16:49:16.129658Z",
          "iopub.execute_input": "2023-10-17T16:49:16.130409Z",
          "iopub.status.idle": "2023-10-17T16:49:22.591917Z",
          "shell.execute_reply.started": "2023-10-17T16:49:16.130336Z",
          "shell.execute_reply": "2023-10-17T16:49:22.590949Z"
        },
        "trusted": true
      },
      "execution_count": null,
      "outputs": []
    },
    {
      "cell_type": "markdown",
      "source": [
        "<a id=\"0.1\"></a>\n",
        "## <div style= \"font-family: Cambria; font-weight:bold; letter-spacing: 0px; color:#ffffff; font-size:120%; text-align:left;padding:3.0px; background: #0059b3; border-bottom: 8px solid #e6e6e6\" >Tokeniztion & pad_sequences<br><div>\n"
      ],
      "metadata": {
        "id": "wCAImVJXPLKD"
      }
    },
    {
      "cell_type": "code",
      "source": [
        "voc_size = 20000\n",
        "max_length = 100\n",
        "tokenizer = Tokenizer(num_words=voc_size)\n",
        "tokenizer.fit_on_texts(train)\n",
        "word_index = tokenizer.word_index\n",
        "with open('/kaggle/working/tokenizer.pkl', 'wb') as f:\n",
        "    pickle.dump(tokenizer, f)"
      ],
      "metadata": {
        "id": "CEsTwSo3ewhN",
        "execution": {
          "iopub.status.busy": "2023-10-17T16:49:22.592887Z",
          "iopub.execute_input": "2023-10-17T16:49:22.593241Z",
          "iopub.status.idle": "2023-10-17T16:52:49.640105Z",
          "shell.execute_reply.started": "2023-10-17T16:49:22.593209Z",
          "shell.execute_reply": "2023-10-17T16:52:49.639134Z"
        },
        "trusted": true
      },
      "execution_count": null,
      "outputs": []
    },
    {
      "cell_type": "code",
      "source": [
        "train = tokenizer.texts_to_sequences(train)\n",
        "train = pad_sequences(train, maxlen=max_length)\n",
        "test = tokenizer.texts_to_sequences(test)\n",
        "test = pad_sequences(test, maxlen=max_length)"
      ],
      "metadata": {
        "id": "NsDSpMmRe8bF",
        "execution": {
          "iopub.status.busy": "2023-10-17T16:52:49.641387Z",
          "iopub.execute_input": "2023-10-17T16:52:49.642498Z"
        },
        "trusted": true
      },
      "execution_count": null,
      "outputs": []
    },
    {
      "cell_type": "code",
      "source": [
        "train_lab=np.array([1 if i=='2' else 0 for i in train_label])\n",
        "test_lab=np.array([1 if i=='2' else 0 for i in test_label])"
      ],
      "metadata": {
        "id": "QBeQhAjXfBpt",
        "trusted": true
      },
      "execution_count": null,
      "outputs": []
    },
    {
      "cell_type": "markdown",
      "source": [
        "<a id=\"0.1\"></a>\n",
        "## <div style= \"font-family: Cambria; font-weight:bold; letter-spacing: 0px; color:#ffffff; font-size:120%; text-align:left;padding:3.0px; background: #0059b3; border-bottom: 8px solid #e6e6e6\" >Model<br><div>"
      ],
      "metadata": {
        "id": "_wwuKt3RPLKG"
      }
    },
    {
      "cell_type": "code",
      "source": [
        "model = Sequential()\n",
        "model.add(Embedding(input_dim=voc_size, output_dim=64, input_length=max_length))\n",
        "model.add(LSTM(units=32, return_sequences=True))\n",
        "model.add(SpatialDropout1D(rate=0.2))\n",
        "model.add(LSTM(units=32))\n",
        "model.add(Dense(1,activation='sigmoid'))\n",
        "model.summary()"
      ],
      "metadata": {
        "id": "X2qcZkzMfE1m",
        "trusted": true
      },
      "execution_count": null,
      "outputs": []
    },
    {
      "cell_type": "code",
      "source": [
        "checkpoint_cb =ModelCheckpoint(\"amazon_model.h5\", save_best_only=True)\n",
        "model.compile(loss='binary_crossentropy',optimizer='adam',metrics=['accuracy'])\n",
        "history = model.fit(train, train_lab, epochs=2,\n",
        "                    validation_split=.1,\n",
        "                    callbacks=[checkpoint_cb])"
      ],
      "metadata": {
        "id": "aZuwWB5tfNrd",
        "trusted": true
      },
      "execution_count": null,
      "outputs": []
    },
    {
      "cell_type": "code",
      "source": [
        "loss,accuracy = model.evaluate(test, test_lab)\n",
        "print(\"Loss:\", loss)\n",
        "print(\"Accuracy:\", accuracy)"
      ],
      "metadata": {
        "id": "2Ua91fy2gxbf",
        "trusted": true
      },
      "execution_count": null,
      "outputs": []
    },
    {
      "cell_type": "code",
      "source": [
        "pd.DataFrame(history.history)"
      ],
      "metadata": {
        "trusted": true,
        "id": "-X_303X4PLKI"
      },
      "execution_count": null,
      "outputs": []
    },
    {
      "cell_type": "code",
      "source": [
        "prediction=model.predict(test)\n",
        "y_pred=np.where(prediction>=.5,1,0)\n",
        "df=pd.DataFrame()\n",
        "df['actual'],df['pred']=test_lab,y_pred"
      ],
      "metadata": {
        "trusted": true,
        "id": "fRxQW2T3PLKJ"
      },
      "execution_count": null,
      "outputs": []
    },
    {
      "cell_type": "code",
      "source": [
        "df"
      ],
      "metadata": {
        "trusted": true,
        "id": "J_WTNK_EPLKK"
      },
      "execution_count": null,
      "outputs": []
    },
    {
      "cell_type": "markdown",
      "source": [
        "<a id=\"0.1\"></a>\n",
        "## <div style= \"font-family: Cambria; font-weight:bold; letter-spacing: 0px; color:#ffffff; font-size:120%; text-align:left;padding:3.0px; background: #0059b3; border-bottom: 8px solid #e6e6e6\" >Model Check<br><div>"
      ],
      "metadata": {
        "id": "CTl4czUsPLKK"
      }
    },
    {
      "cell_type": "code",
      "source": [
        "CM = confusion_matrix(test_lab, y_pred)\n",
        "sns.heatmap(CM,annot=True,center = True,fmt='g',cmap='Blues')\n",
        "CM"
      ],
      "metadata": {
        "trusted": true,
        "id": "gChkHWxJPLKK"
      },
      "execution_count": null,
      "outputs": []
    },
    {
      "cell_type": "code",
      "source": [
        "ClassificationReport = classification_report(test_lab,y_pred)\n",
        "print('Classification Report is : ', ClassificationReport)"
      ],
      "metadata": {
        "trusted": true,
        "id": "NZ81oIxBPLKK"
      },
      "execution_count": null,
      "outputs": []
    },
    {
      "cell_type": "markdown",
      "source": [
        "<center>\n",
        "  <h1 style=\"background-color:red; color:white; font-size:40px; font-weight:bold; font-family:Times New Roman; border:3px solid black;\">Upvotes</h1>\n",
        "</center>"
      ],
      "metadata": {
        "id": "qUg8i-PDPLKL"
      }
    }
  ]
}